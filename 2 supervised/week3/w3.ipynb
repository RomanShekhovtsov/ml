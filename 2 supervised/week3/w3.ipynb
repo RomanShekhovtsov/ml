{
 "cells": [
  {
   "cell_type": "code",
   "execution_count": 29,
   "metadata": {},
   "outputs": [
    {
     "data": {
      "text/plain": [
       "40"
      ]
     },
     "execution_count": 29,
     "metadata": {},
     "output_type": "execute_result"
    }
   ],
   "source": [
    "import numpy as np\n",
    "import math\n",
    "import matplotlib\n",
    "import scipy.stats as st\n",
    "%matplotlib inline"
   ]
  },
  {
   "cell_type": "code",
   "execution_count": 30,
   "metadata": {},
   "outputs": [
    {
     "data": {
      "text/plain": [
       "9.0"
      ]
     },
     "execution_count": 30,
     "metadata": {},
     "output_type": "execute_result"
    }
   ],
   "source": [
    "def max_prob(n, X):\n",
    "    return np.sum(X)-n\n",
    "    #return N*math.log(1/n) + np.sum(X-n) * math.log(1-1/N)\n",
    "\n",
    "X = np.array([8,12,7,6,12])\n",
    "n = 5\n",
    "max_prob(n, X)\n",
    "\n",
    "(8 + 12 + 7 + 6 + 12)/5"
   ]
  },
  {
   "cell_type": "code",
   "execution_count": 40,
   "metadata": {},
   "outputs": [
    {
     "name": "stdout",
     "output_type": "stream",
     "text": [
      "binomial: 0.18760417148928016\n",
      "max_prob: 0.00013743895347200012\n",
      "6.0\n"
     ]
    }
   ],
   "source": [
    "#bern = st.bernoulli()\n",
    "def cnk(n, k):\n",
    "    return math.factorial(n) / \\\n",
    "         ( math.factorial(k) * math.factorial(n - k) )\n",
    "\n",
    "def binomial(p, n, k):    \n",
    "    return cnk(n, k) * p**k * (1-p)**(n-k)\n",
    "\n",
    "def max_prob(p, n, k):\n",
    "    return p**k * (1-p)**(n-k)\n",
    "\n",
    "print( 'binomial:', binomial(0.2, 15,4))\n",
    "print( 'max_prob:', max_prob(0.2, 15,4))\n",
    "print(cnk(4, 2))"
   ]
  },
  {
   "cell_type": "code",
   "execution_count": 38,
   "metadata": {},
   "outputs": [
    {
     "data": {
      "text/plain": [
       "0.26666666666666666"
      ]
     },
     "execution_count": 38,
     "metadata": {},
     "output_type": "execute_result"
    }
   ],
   "source": [
    "4/15"
   ]
  }
 ],
 "metadata": {
  "kernelspec": {
   "display_name": "Python 3",
   "language": "python",
   "name": "python3"
  },
  "language_info": {
   "codemirror_mode": {
    "name": "ipython",
    "version": 3
   },
   "file_extension": ".py",
   "mimetype": "text/x-python",
   "name": "python",
   "nbconvert_exporter": "python",
   "pygments_lexer": "ipython3",
   "version": "3.6.5"
  }
 },
 "nbformat": 4,
 "nbformat_minor": 2
}
