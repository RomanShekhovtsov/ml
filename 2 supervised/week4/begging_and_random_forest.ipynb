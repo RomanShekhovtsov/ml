{
 "cells": [
  {
   "cell_type": "code",
   "execution_count": 53,
   "metadata": {},
   "outputs": [],
   "source": [
    "import pandas as pd\n",
    "import numpy as np\n",
    "from sklearn import datasets, model_selection, tree, ensemble\n",
    "import matplotlib\n",
    "%matplotlib inline"
   ]
  },
  {
   "cell_type": "code",
   "execution_count": 19,
   "metadata": {},
   "outputs": [],
   "source": [
    "ds = datasets.load_digits()\n",
    "X = ds.data\n",
    "y = ds.target"
   ]
  },
  {
   "cell_type": "code",
   "execution_count": 37,
   "metadata": {},
   "outputs": [
    {
     "name": "stdout",
     "output_type": "stream",
     "text": [
      "0.8297225416552039\n"
     ]
    }
   ],
   "source": [
    "# 1\n",
    "est = tree.DecisionTreeClassifier()\n",
    "\n",
    "mean = 0\n",
    "n = 10\n",
    "for i in range(n):\n",
    "    q = model_selection.cross_val_score( est, X, y, cv=10 )\n",
    "    mean += q.mean()\n",
    "    #print( q.mean() )\n",
    "mean = mean / n\n",
    "print(mean)"
   ]
  },
  {
   "cell_type": "code",
   "execution_count": 45,
   "metadata": {},
   "outputs": [
    {
     "name": "stdout",
     "output_type": "stream",
     "text": [
      "0.9232263243905166\n"
     ]
    }
   ],
   "source": [
    "# 2\n",
    "bagging2 = ensemble.BaggingClassifier(est, n_estimators=100)\n",
    "q = model_selection.cross_val_score( bagging, X, y, cv=10 )\n",
    "print( q.mean() )"
   ]
  },
  {
   "cell_type": "code",
   "execution_count": 47,
   "metadata": {},
   "outputs": [
    {
     "name": "stdout",
     "output_type": "stream",
     "text": [
      "attribs_count 64\n",
      "0.9343979212133166\n"
     ]
    }
   ],
   "source": [
    "# 3\n",
    "attribs_count = X.shape[1]\n",
    "print( 'attribs_count', attribs_count)\n",
    "\n",
    "bagging3 = ensemble.BaggingClassifier(\n",
    "    est,\n",
    "    n_estimators=100,\n",
    "    max_features= int(np.sqrt(attribs_count)) )\n",
    "\n",
    "q = model_selection.cross_val_score( bagging3, X, y, cv=10 )\n",
    "print( q.mean() )"
   ]
  },
  {
   "cell_type": "code",
   "execution_count": 48,
   "metadata": {},
   "outputs": [
    {
     "name": "stdout",
     "output_type": "stream",
     "text": [
      "0.9516277335335831\n"
     ]
    }
   ],
   "source": [
    "# 4\n",
    "est4 = tree.DecisionTreeClassifier(max_features='sqrt')\n",
    "bagging4 = ensemble.BaggingClassifier(est4, n_estimators=100)\n",
    "q = model_selection.cross_val_score( bagging4, X, y, cv=10 )\n",
    "print( q.mean() )"
   ]
  },
  {
   "cell_type": "code",
   "execution_count": 55,
   "metadata": {},
   "outputs": [
    {
     "name": "stdout",
     "output_type": "stream",
     "text": [
      "0.952831725785293\n"
     ]
    }
   ],
   "source": [
    "# 5\n",
    "rf = ensemble.RandomForestClassifier(n_estimators=100,max_features='sqrt')\n",
    "q = model_selection.cross_val_score( rf, X, y, cv=10 )\n",
    "print( q.mean() )"
   ]
  },
  {
   "cell_type": "code",
   "execution_count": 129,
   "metadata": {},
   "outputs": [
    {
     "name": "stderr",
     "output_type": "stream",
     "text": [
      "C:\\p\\anaconda3\\lib\\site-packages\\sklearn\\model_selection\\_search.py:761: DeprecationWarning: The grid_scores_ attribute was deprecated in version 0.18 in favor of the more elaborate cv_results_ attribute. The grid_scores_ attribute will not be available from 0.20\n",
      "  DeprecationWarning)\n"
     ]
    },
    {
     "data": {
      "text/plain": [
       "[mean: 0.89928, std: 0.00709, params: {'max_features': 5},\n",
       " mean: 0.88982, std: 0.01010, params: {'max_features': 10},\n",
       " mean: 0.88759, std: 0.01738, params: {'max_features': 40},\n",
       " mean: 0.88648, std: 0.02437, params: {'max_features': 50}]"
      ]
     },
     "execution_count": 129,
     "metadata": {},
     "output_type": "execute_result"
    }
   ],
   "source": [
    "rf2 = ensemble.RandomForestClassifier()\n",
    "params = { \n",
    "    #'n_estimators': (5,10,15, 50, 100, 200, 300)\n",
    "    'max_features': (5,10,40,50)\n",
    "    #'max_depth': (5,6,40,50,60)\n",
    "         }\n",
    "#rf.get_params().keys()\n",
    "grid = model_selection.GridSearchCV(rf2, params)\n",
    "grid.fit(X,y)\n",
    "# номера правильных ответов: 2 3 4 7\n",
    "grid.grid_scores_"
   ]
  },
  {
   "cell_type": "code",
   "execution_count": 120,
   "metadata": {},
   "outputs": [],
   "source": [
    "def plot_scores( grid ):\n",
    "    scores = grid.grid_scores_\n",
    "    print(scores[0][0])\n",
    "    print(scores[0][0].keys())\n",
    "    print(scores[0][0].values())\n",
    "    params = np.array( map(lambda x: x[0], scores[0] ) )\n",
    "#plt.plot( (10, 50, 100), list(map(lambda x: x['mean'], scores[:3])) )\n"
   ]
  },
  {
   "cell_type": "code",
   "execution_count": 122,
   "metadata": {},
   "outputs": [
    {
     "name": "stderr",
     "output_type": "stream",
     "text": [
      "C:\\p\\anaconda3\\lib\\site-packages\\sklearn\\model_selection\\_search.py:761: DeprecationWarning: The grid_scores_ attribute was deprecated in version 0.18 in favor of the more elaborate cv_results_ attribute. The grid_scores_ attribute will not be available from 0.20\n",
      "  DeprecationWarning)\n"
     ]
    },
    {
     "data": {
      "text/plain": [
       "[mean: 0.85865, std: 0.01331, params: {'n_estimators': 5},\n",
       " mean: 0.91096, std: 0.00310, params: {'n_estimators': 10},\n",
       " mean: 0.90428, std: 0.01488, params: {'n_estimators': 15},\n",
       " mean: 0.93322, std: 0.01126, params: {'n_estimators': 50},\n",
       " mean: 0.94268, std: 0.00985, params: {'n_estimators': 100}]"
      ]
     },
     "execution_count": 122,
     "metadata": {},
     "output_type": "execute_result"
    }
   ],
   "source": []
  }
 ],
 "metadata": {
  "kernelspec": {
   "display_name": "Python 3",
   "language": "python",
   "name": "python3"
  },
  "language_info": {
   "codemirror_mode": {
    "name": "ipython",
    "version": 3
   },
   "file_extension": ".py",
   "mimetype": "text/x-python",
   "name": "python",
   "nbconvert_exporter": "python",
   "pygments_lexer": "ipython3",
   "version": "3.6.5"
  }
 },
 "nbformat": 4,
 "nbformat_minor": 2
}
