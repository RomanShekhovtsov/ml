{
 "cells": [
  {
   "cell_type": "code",
   "execution_count": 1,
   "metadata": {},
   "outputs": [],
   "source": [
    "import math\n",
    "import numpy as np\n",
    "import scipy.stats as st"
   ]
  },
  {
   "cell_type": "code",
   "execution_count": 7,
   "metadata": {},
   "outputs": [
    {
     "name": "stdout",
     "output_type": "stream",
     "text": [
      "sigma: 340.8551011793721\n",
      "upper border 3 sigma: 2220.2553035381166\n"
     ]
    }
   ],
   "source": [
    "mean = 1197.69\n",
    "disp = 116182.2\n",
    "n = 2015 - 1885 + 1\n",
    "interval = 0.997\n",
    "deviation = math.sqrt( disp )\n",
    "print(\"sigma:\", deviation)\n",
    "print('upper border 3 sigma:', mean + 3 * deviation)"
   ]
  },
  {
   "cell_type": "code",
   "execution_count": 10,
   "metadata": {},
   "outputs": [],
   "source": [
    "za2 = interval / 2\n",
    "#print(za2) # 2.97\n",
    "err = 2.97 * deviation / math.sqrt(n)\n",
    "#print('upper border:', mean + err)"
   ]
  },
  {
   "cell_type": "code",
   "execution_count": 8,
   "metadata": {},
   "outputs": [],
   "source": [
    "#st.norm.interval(0.997, loc=mean, scale=( deviation/math.sqrt(n) ) )"
   ]
  },
  {
   "cell_type": "code",
   "execution_count": 14,
   "metadata": {},
   "outputs": [
    {
     "name": "stdout",
     "output_type": "stream",
     "text": [
      "deviation of mean: 29.780648463402596\n",
      "upper border of mean: 1287.0319453902077\n"
     ]
    }
   ],
   "source": [
    "dev2 = math.sqrt( disp / n )\n",
    "print('deviation of mean:', dev2 )\n",
    "\n",
    "print( 'upper border of mean:', mean  + 3 * dev2)"
   ]
  },
  {
   "cell_type": "markdown",
   "metadata": {},
   "source": [
    "# тест по статистике"
   ]
  },
  {
   "cell_type": "code",
   "execution_count": 27,
   "metadata": {},
   "outputs": [
    {
     "name": "stdout",
     "output_type": "stream",
     "text": [
      "0.4719068910760514 0.7780931089239487\n"
     ]
    }
   ],
   "source": [
    "#рекламный ролик\n",
    "mean = 0.625\n",
    "var = mean * (1 - mean)\n",
    "n = 40\n",
    "sigma = (var/n)**0.5\n",
    "print(mean - 2* sigma, mean + 2 * sigma)"
   ]
  },
  {
   "cell_type": "code",
   "execution_count": 21,
   "metadata": {},
   "outputs": [
    {
     "name": "stdout",
     "output_type": "stream",
     "text": [
      "0.18473675547622792\n"
     ]
    }
   ],
   "source": [
    "# Вопрос 10\n",
    "# Предположим, что вы получаете в среднем три спам-письма в день.\n",
    "# Какова доля дней, в которые вы получаете пять или больше спам-писем?\n",
    "# Округлите до двух знаков после десятичной точки.\n",
    "import math\n",
    "\n",
    "def puasson( lam, k ):\n",
    "    return ( (lam ** k) * math.exp(-lam) ) / math.factorial(k)\n",
    "\n",
    "print( 1 \n",
    "      - puasson( 3, 0) \n",
    "      - puasson( 3, 1)  \n",
    "      - puasson( 3, 2)\n",
    "      - puasson( 3, 3)\n",
    "      - puasson( 3, 4)  )"
   ]
  }
 ],
 "metadata": {
  "kernelspec": {
   "display_name": "Python 3",
   "language": "python",
   "name": "python3"
  },
  "language_info": {
   "codemirror_mode": {
    "name": "ipython",
    "version": 3
   },
   "file_extension": ".py",
   "mimetype": "text/x-python",
   "name": "python",
   "nbconvert_exporter": "python",
   "pygments_lexer": "ipython3",
   "version": "3.6.5"
  }
 },
 "nbformat": 4,
 "nbformat_minor": 2
}
