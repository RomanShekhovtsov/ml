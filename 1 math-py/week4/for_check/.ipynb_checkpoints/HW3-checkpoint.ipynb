{
 "cells": [
  {
   "cell_type": "code",
   "execution_count": 2,
   "metadata": {},
   "outputs": [],
   "source": [
    "import numpy as np\n",
    "import matplotlib.pyplot as plt\n",
    "import scipy.stats as sts\n",
    "%matplotlib inline\n",
    "import math"
   ]
  },
  {
   "cell_type": "markdown",
   "metadata": {},
   "source": [
    "# Выбираем распредиление Парето"
   ]
  },
  {
   "cell_type": "code",
   "execution_count": 3,
   "metadata": {},
   "outputs": [
    {
     "name": "stdout",
     "output_type": "stream",
     "text": [
      "E[x]:  1.5\n",
      "D[x]:  0.75\n"
     ]
    }
   ],
   "source": [
    "# посчитаем среднее и дисперсию\n",
    "xm=1. # минимальное значение\n",
    "k=3. # k -> это параметр b - \"коэффициент кривизны\"\n",
    "E=(xm*k)/(k-1) # среднее(мат ожидание)\n",
    "D=(xm / (k-1))**2 *(k/(k-2)) # дисперсия\n",
    "print('E[x]: ', E)\n",
    "print('D[x]: ', D)"
   ]
  },
  {
   "cell_type": "code",
   "execution_count": 4,
   "metadata": {},
   "outputs": [
    {
     "data": {
      "text/plain": [
       "<matplotlib.legend.Legend at 0x8e53080>"
      ]
     },
     "execution_count": 4,
     "metadata": {},
     "output_type": "execute_result"
    },
    {
     "data": {
      "image/png": "[encoded data removed]",
      "text/plain": [
       "<Figure size 432x288 with 1 Axes>"
      ]
     },
     "metadata": {},
     "output_type": "display_data"
    }
   ],
   "source": [
    "# Генерим выборку объема 1000\n",
    "pareto = sts.pareto(b=3)\n",
    "sample = pareto.rvs(1000)\n",
    "x = np.linspace(1, 10, 1000) # определяем массив точек для построения плотности распределения\n",
    "pdf = pareto.pdf(x) # вычесляем значения плотности рапределения\n",
    "# строим гистрограмму выборки и теоретическую функцию распределения\n",
    "plt.plot(x, pdf, label='theoretical PDF')\n",
    "plt.hist(sample, bins =50, range=(1,10), density=True)\n",
    "plt.ylabel('$f(x)$/number of samples')\n",
    "plt.xlabel('$x$')\n",
    "plt.legend(loc='best')"
   ]
  },
  {
   "cell_type": "markdown",
   "metadata": {},
   "source": [
    "# Оценим распределение выборочного среднего случайной величины при разных объёмах выборок\n",
    "\n",
    "## при n = 10"
   ]
  },
  {
   "cell_type": "code",
   "execution_count": 5,
   "metadata": {},
   "outputs": [
    {
     "data": {
      "text/plain": [
       "<matplotlib.legend.Legend at 0x8fbb6d8>"
      ]
     },
     "execution_count": 5,
     "metadata": {},
     "output_type": "execute_result"
    },
    {
     "data": {
      "image/png": "[encoded data removed]",
      "text/plain": [
       "<Figure size 432x288 with 1 Axes>"
      ]
     },
     "metadata": {},
     "output_type": "display_data"
    }
   ],
   "source": [
    "n=10\n",
    "sample5=np.array([]) # обозначим массив выборочных средних\n",
    "i=1\n",
    "while i <= 1000: # цикл генерации случайных выборок количества n из функции\n",
    "    sample5i = pareto.rvs(n) # генерация выборки\n",
    "    mean5i=sum(sample5i)/n # определение выборочного среднего (в.с.)\n",
    "    sample5=np.append(sample5,mean5i) # добавляем в массив новое значение в.с.\n",
    "    i+=1\n",
    "D5=D/n # дисперсия для нормального распределения приближающего выборку средних\n",
    "sigma5=math.sqrt(D5) # сигма для нормального распределения выборки средних\n",
    "norm5 = sts.norm(E, sigma5) # определяем нормальное распределение с расчетными характеристиками Парето\n",
    "pdf5 = norm5.pdf(x[:500]) # получаем плотность распределения\n",
    "# строим гистограмму массива средних при n=5 и плотность описывающую этот массив нормального распределения\n",
    "plt.plot(x[:500], pdf5, label='PDF(n=10)')\n",
    "plt.hist(sample5, bins =80, range=(0,5), density=True)\n",
    "plt.ylabel('number of samples')\n",
    "plt.xlabel('$x$')\n",
    "plt.legend(loc='best')"
   ]
  },
  {
   "cell_type": "markdown",
   "metadata": {},
   "source": [
    "## при n = 20"
   ]
  },
  {
   "cell_type": "code",
   "execution_count": 1,
   "metadata": {},
   "outputs": [
    {
     "ename": "NameError",
     "evalue": "name 'np' is not defined",
     "output_type": "error",
     "traceback": [
      "\u001b[1;31m---------------------------------------------------------------------------\u001b[0m",
      "\u001b[1;31mNameError\u001b[0m                                 Traceback (most recent call last)",
      "\u001b[1;32m<ipython-input-1-bd83233cf4de>\u001b[0m in \u001b[0;36m<module>\u001b[1;34m()\u001b[0m\n\u001b[0;32m      1\u001b[0m \u001b[0mn\u001b[0m\u001b[1;33m=\u001b[0m\u001b[1;36m20\u001b[0m\u001b[1;33m\u001b[0m\u001b[0m\n\u001b[1;32m----> 2\u001b[1;33m \u001b[0msample30\u001b[0m\u001b[1;33m=\u001b[0m\u001b[0mnp\u001b[0m\u001b[1;33m.\u001b[0m\u001b[0marray\u001b[0m\u001b[1;33m(\u001b[0m\u001b[1;33m[\u001b[0m\u001b[1;33m]\u001b[0m\u001b[1;33m)\u001b[0m\u001b[1;31m#обозначим массив выборочных средних\u001b[0m\u001b[1;33m\u001b[0m\u001b[0m\n\u001b[0m\u001b[0;32m      3\u001b[0m \u001b[0mi\u001b[0m\u001b[1;33m=\u001b[0m\u001b[1;36m1\u001b[0m\u001b[1;33m\u001b[0m\u001b[0m\n\u001b[0;32m      4\u001b[0m \u001b[1;32mwhile\u001b[0m \u001b[0mi\u001b[0m \u001b[1;33m<=\u001b[0m \u001b[1;36m1000\u001b[0m\u001b[1;33m:\u001b[0m\u001b[1;31m#цикл генерации случайных выборок количества n из функции\u001b[0m\u001b[1;33m\u001b[0m\u001b[0m\n\u001b[0;32m      5\u001b[0m     \u001b[0msample30i\u001b[0m \u001b[1;33m=\u001b[0m \u001b[0mpareto\u001b[0m\u001b[1;33m.\u001b[0m\u001b[0mrvs\u001b[0m\u001b[1;33m(\u001b[0m\u001b[0mn\u001b[0m\u001b[1;33m)\u001b[0m\u001b[1;31m#генерация выборки\u001b[0m\u001b[1;33m\u001b[0m\u001b[0m\n",
      "\u001b[1;31mNameError\u001b[0m: name 'np' is not defined"
     ]
    }
   ],
   "source": [
    "n=20\n",
    "sample30=np.array([])#обозначим массив выборочных средних\n",
    "i=1\n",
    "while i <= 1000:#цикл генерации случайных выборок количества n из функции\n",
    "    sample30i = pareto.rvs(n)#генерация выборки\n",
    "    mean30i=sum(sample30i)/n#определение выборочного среднего (в.с.)\n",
    "    sample30=np.append(sample30,mean30i)#добавляем в массив новое значение в.с.\n",
    "    i+=1\n",
    "D30=D/n#дисперсия для нормального распределения приближающего выборку средних\n",
    "sigma30=math.sqrt(D30)#сигма для нормального распределения выборки средних\n",
    "norm30 = sts.norm(E, sigma30)#определяем нормальное распределение с расчетными характеристиками Парето\n",
    "pdf30 = norm30.pdf(x)#получаем плотность распределения\n",
    "#строим гистограмму массива средних при n=30 и плотность описывающую этот массив нормального распределения\n",
    "plt.plot(x, pdf30, label='PDF(n=20)')\n",
    "plt.hist(sample30, bins =80, range=(0,3), density=True)\n",
    "plt.ylabel('number of samples')\n",
    "plt.xlabel('$x$')\n",
    "plt.legend(loc='best')"
   ]
  },
  {
   "cell_type": "markdown",
   "metadata": {},
   "source": [
    "## при n = 300"
   ]
  },
  {
   "cell_type": "code",
   "execution_count": 12,
   "metadata": {},
   "outputs": [
    {
     "data": {
      "text/plain": [
       "<matplotlib.legend.Legend at 0x7fc6884c1780>"
      ]
     },
     "execution_count": 12,
     "metadata": {},
     "output_type": "execute_result"
    },
    {
     "data": {
      "image/png": "[encoded data removed]",
      "text/plain": [
       "<Figure size 432x288 with 1 Axes>"
      ]
     },
     "metadata": {},
     "output_type": "display_data"
    }
   ],
   "source": [
    "n=300\n",
    "sample100=np.array([])#обозначим массив выборочных средних\n",
    "i=1\n",
    "while i <= 1000:#цикл генерации случайных выборок количества n из функции\n",
    "    sample100i = pareto.rvs(n)#генерация выборки\n",
    "    mean100i=sum(sample100i)/n#определение выборочного среднего (в.с.)\n",
    "    sample100=np.append(sample100,mean100i)#добавляем в массив новое значение в.с.\n",
    "    i+=1\n",
    "D100=D/n#дисперсия для нормального распределения выборки средних\n",
    "sigma100=math.sqrt(D100)#сигма для нормального распределения выборки средних\n",
    "norm100 = sts.norm(E, sigma100)#определяем нормальное распределение с расчетными характеристиками Парето\n",
    "pdf100 = norm100.pdf(x[:300])#получаем плотность распределения\n",
    "#строим гистограмму массива средних при n=100 и плотность описывающую этот массив нормального распределения\n",
    "plt.plot(x[:300], pdf100, label='PDF(n=300)')\n",
    "plt.hist(sample100, bins =80, range=(0,3), density=True)\n",
    "plt.ylabel('number of samples')\n",
    "plt.xlabel('$x$')\n",
    "plt.legend(loc='best')"
   ]
  },
  {
   "cell_type": "markdown",
   "metadata": {},
   "source": [
    "## при n=1250"
   ]
  },
  {
   "cell_type": "code",
   "execution_count": 13,
   "metadata": {},
   "outputs": [
    {
     "data": {
      "text/plain": [
       "<matplotlib.legend.Legend at 0x7fc6883955c0>"
      ]
     },
     "execution_count": 13,
     "metadata": {},
     "output_type": "execute_result"
    },
    {
     "data": {
      "image/png": "[encoded data removed]",
      "text/plain": [
       "<Figure size 432x288 with 1 Axes>"
      ]
     },
     "metadata": {},
     "output_type": "display_data"
    }
   ],
   "source": [
    "n=1250\n",
    "y = np.linspace(1,3,1000)\n",
    "sample1000=np.array([])#обозначим массив выборочных средних\n",
    "i=1\n",
    "while i <= 1000:#цикл генерации случайных выборок количества n из функции\n",
    "    sample1000i = pareto.rvs(n)#генерация выборки\n",
    "    mean1000i=sum(sample1000i)/n#определение выборочного среднего (в.с.)\n",
    "    sample1000=np.append(sample1000,mean1000i)#добавляем в массив новое значение в.с.\n",
    "    i+=1\n",
    "D1000=D/n#дисперсия для нормального распределения выборки средних\n",
    "sigma1000=math.sqrt(D1000)#сигма для нормального распределения выборки средних\n",
    "norm1000 = sts.norm(E, sigma1000)#определяем нормальное распределение с расчетными характеристиками Парето\n",
    "pdf1000 = norm1000.pdf(y)#получаем плотность распределения\n",
    "#строим гистограмму массива средних при n=1000 и плотность описывающую этот массив нормального распределения\n",
    "plt.plot(y, pdf1000, label='PDF(n=1250)')\n",
    "plt.hist(sample1000, bins =80, range=(1,2), density=True)\n",
    "plt.ylabel('number of samples')\n",
    "plt.xlabel('$x$')\n",
    "plt.legend(loc='best')"
   ]
  },
  {
   "cell_type": "markdown",
   "metadata": {},
   "source": [
    "Для выполнения задания была выбрана функция распределения Парето (наугад из списка доступных в SciPy). Были выполнены условия задачи: построены для четырех разных n (10, 20, 300, 1250) по 1000 случайных выборок, измерены их выборочные средние и составлены соостветствующие массивы, по массивам выборочных средних построены гистограммы распределения, исходя из теоретических данных определены соответствующие каждому n параметры распределений для апроксимации, по полученным параметрам построены функции нормального распределения для каждого n поверх соответствующих гистограмм.\n",
    "\n",
    "По полученным графикам наблюдается увелечение точности апроксимации выборочного среднего значения непрерывной случайной величины описываемой распределением Парето, хотя и в итоговый результат внесены искажения из-за особенностей функции Парето, главным из которых является граница значений, что приводит к ограничению искомой апроксимирующей функции. Так же заметна скошенность проявляющаяся в несимметричности распределения относительно центра. Из-за перечисленных недостатков функция сходится медленно, и более качественный результат наблюдается при больших n, в нашем случае при n = 1250"
   ]
  },
  {
   "cell_type": "code",
   "execution_count": null,
   "metadata": {},
   "outputs": [],
   "source": []
  }
 ],
 "metadata": {
  "kernelspec": {
   "display_name": "Python 3",
   "language": "python",
   "name": "python3"
  },
  "language_info": {
   "codemirror_mode": {
    "name": "ipython",
    "version": 3
   },
   "file_extension": ".py",
   "mimetype": "text/x-python",
   "name": "python",
   "nbconvert_exporter": "python",
   "pygments_lexer": "ipython3",
   "version": "3.6.5"
  }
 },
 "nbformat": 4,
 "nbformat_minor": 2
}
