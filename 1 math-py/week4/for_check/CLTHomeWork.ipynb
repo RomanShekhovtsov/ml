{
 "cells": [
  {
   "cell_type": "code",
   "execution_count": 1,
   "metadata": {},
   "outputs": [],
   "source": [
    "import pandas as pd\n",
    "import numpy as np\n",
    "import matplotlib.pyplot as plt\n",
    "import scipy.stats as sts\n",
    "%matplotlib inline"
   ]
  },
  {
   "cell_type": "markdown",
   "metadata": {},
   "source": [
    "# \"Центральная предельная теорема своими руками\"\n",
    "## Автор: Капустин Григорий\n",
    "### Прошу выполнять блоки последовательно"
   ]
  },
  {
   "cell_type": "markdown",
   "metadata": {},
   "source": [
    "## ** В качестве примера я решил выбрать распределение $\\chi^2$ (хи-квадрат). Как было сказано в видео, если распределение не слишком скошено, то распределение $\\bar{X}_{n}$ хорошо описывается нормальным при $n\\geq30$. Поэтому, мой интерес и заставил меня выбрать \"скошенное\" распределение, что бы узнать насколько большим должно быть n. **"
   ]
  },
  {
   "cell_type": "markdown",
   "metadata": {},
   "source": [
    "## ** Распределение $\\chi^2$ имеет один параметр: $k>0$, определяющий число степеней свободы. Чем больше $k$, тем менее скошенным выглядит распределение **"
   ]
  },
  {
   "cell_type": "code",
   "execution_count": 2,
   "metadata": {},
   "outputs": [],
   "source": [
    "k=1\n",
    "chi2distribution = sts.chi2(k)"
   ]
  },
  {
   "cell_type": "code",
   "execution_count": 3,
   "metadata": {},
   "outputs": [],
   "source": [
    "sample = chi2distribution.rvs(1000)"
   ]
  },
  {
   "cell_type": "code",
   "execution_count": 4,
   "metadata": {},
   "outputs": [
    {
     "name": "stderr",
     "output_type": "stream",
     "text": [
      "C:\\p\\anaconda3\\lib\\site-packages\\matplotlib\\axes\\_axes.py:6462: UserWarning: The 'normed' kwarg is deprecated, and has been replaced by the 'density' kwarg.\n",
      "  warnings.warn(\"The 'normed' kwarg is deprecated, and has been \"\n"
     ]
    },
    {
     "data": {
      "text/plain": [
       "Text(0.5,0,'$x$')"
      ]
     },
     "execution_count": 4,
     "metadata": {},
     "output_type": "execute_result"
    },
    {
     "data": {
      "image/png": "[encoded data removed]",
      "text/plain": [
       "<Figure size 432x288 with 1 Axes>"
      ]
     },
     "metadata": {},
     "output_type": "display_data"
    }
   ],
   "source": [
    "x = np.linspace(0,15,100)\n",
    "Tpdf = chi2distribution.pdf(x)\n",
    "plt.plot(x, Tpdf, label='Theoretical PDF')\n",
    "plt.hist(sample, normed='True', label='Histogram', bins=20)\n",
    "plt.legend()\n",
    "plt.ylabel('f(x)')\n",
    "plt.xlabel('$x$')"
   ]
  },
  {
   "cell_type": "markdown",
   "metadata": {},
   "source": [
    "## **Так выглядят гистограммы выборки $n=1000$ и теоретическая плотность распределения. **\n",
    "## ** Далее я оцениваю распределение выборочного среднего случайной величины при разных объёмах выборок $n$:**\n",
    "## ** Объявляю пустой массив samplemean: **"
   ]
  },
  {
   "cell_type": "code",
   "execution_count": 5,
   "metadata": {},
   "outputs": [],
   "source": [
    "samplemean = np.array([])"
   ]
  },
  {
   "cell_type": "markdown",
   "metadata": {},
   "source": [
    "## ** Задаю n и вычисляю массив для построения гистограммы: **\n",
    "## **При $n=3$:**"
   ]
  },
  {
   "cell_type": "code",
   "execution_count": 6,
   "metadata": {},
   "outputs": [],
   "source": [
    "n = 3"
   ]
  },
  {
   "cell_type": "code",
   "execution_count": 7,
   "metadata": {},
   "outputs": [],
   "source": [
    "if len(samplemean) >0:\n",
    "    samplemean = np.array([])\n",
    "for i in range(1000):\n",
    "    samplemean = np.append(samplemean, (np.sum(chi2distribution.rvs(n))/n))"
   ]
  },
  {
   "cell_type": "markdown",
   "metadata": {},
   "source": [
    "## Теоретическое среднее распределения $\\chi^2$ равно числу степеней свободы $k$. А дисперсия равна $2k$.\n",
    "## Соответственно, значения параметров нормального распределения, которым, согласно центральной предельной теореме, приближается распределение выборочных средних в нашем случае: $\\mu=1$, $\\bar{\\sigma}_3=\\sqrt{\\frac{2}{3}}$, $\\bar{\\sigma}_{10} =\\sqrt{\\frac{2}{10}}$, $\\bar{\\sigma}_{30} =\\sqrt{\\frac{2}{30}}$, $\\bar{\\sigma}_{50} =\\sqrt{\\frac{2}{50}}$   \n",
    "## Источник: https://ru.wikipedia.org/wiki/%D0%A0%D0%B0%D1%81%D0%BF%D1%80%D0%B5%D0%B4%D0%B5%D0%BB%D0%B5%D0%BD%D0%B8%D0%B5_%D1%85%D0%B8-%D0%BA%D0%B2%D0%B0%D0%B4%D1%80%D0%B0%D1%82**"
   ]
  },
  {
   "cell_type": "code",
   "execution_count": 8,
   "metadata": {},
   "outputs": [
    {
     "name": "stderr",
     "output_type": "stream",
     "text": [
      "C:\\p\\anaconda3\\lib\\site-packages\\matplotlib\\axes\\_axes.py:6462: UserWarning: The 'normed' kwarg is deprecated, and has been replaced by the 'density' kwarg.\n",
      "  warnings.warn(\"The 'normed' kwarg is deprecated, and has been \"\n"
     ]
    },
    {
     "data": {
      "text/plain": [
       "Text(0.5,0,'$x$')"
      ]
     },
     "execution_count": 8,
     "metadata": {},
     "output_type": "execute_result"
    },
    {
     "data": {
      "image/png": "[encoded data removed]",
      "text/plain": [
       "<Figure size 432x288 with 1 Axes>"
      ]
     },
     "metadata": {},
     "output_type": "display_data"
    }
   ],
   "source": [
    "x = np.linspace(-0,5,100)\n",
    "normDistribution = sts.norm(k, (np.sqrt(2.*k/n)))\n",
    "pdfN = normDistribution.pdf(x)\n",
    "plt.plot(x, pdfN, label='Theoretical PDF')\n",
    "plt.hist(samplemean, normed='True', label='Histogram, n=3')\n",
    "plt.legend()\n",
    "plt.ylabel('f(x)')\n",
    "plt.xlabel('$x$')"
   ]
  },
  {
   "cell_type": "markdown",
   "metadata": {},
   "source": [
    "## **При $n=10$:**"
   ]
  },
  {
   "cell_type": "code",
   "execution_count": 9,
   "metadata": {},
   "outputs": [],
   "source": [
    "n = 10"
   ]
  },
  {
   "cell_type": "code",
   "execution_count": 10,
   "metadata": {},
   "outputs": [],
   "source": [
    "if len(samplemean) >0:\n",
    "    samplemean = np.array([])\n",
    "for i in range(1000):\n",
    "    samplemean = np.append(samplemean, (np.sum(chi2distribution.rvs(n))/n))"
   ]
  },
  {
   "cell_type": "code",
   "execution_count": 11,
   "metadata": {},
   "outputs": [
    {
     "name": "stderr",
     "output_type": "stream",
     "text": [
      "C:\\p\\anaconda3\\lib\\site-packages\\matplotlib\\axes\\_axes.py:6462: UserWarning: The 'normed' kwarg is deprecated, and has been replaced by the 'density' kwarg.\n",
      "  warnings.warn(\"The 'normed' kwarg is deprecated, and has been \"\n"
     ]
    },
    {
     "data": {
      "text/plain": [
       "Text(0.5,0,'$x$')"
      ]
     },
     "execution_count": 11,
     "metadata": {},
     "output_type": "execute_result"
    },
    {
     "data": {
      "image/png": "[encoded data removed]",
      "text/plain": [
       "<Figure size 432x288 with 1 Axes>"
      ]
     },
     "metadata": {},
     "output_type": "display_data"
    }
   ],
   "source": [
    "x = np.linspace(0,5,100)\n",
    "normDistribution = sts.norm(k, (np.sqrt(2.*k/n)))\n",
    "pdfN = normDistribution.pdf(x)\n",
    "plt.plot(x, pdfN, label='Theoretical PDF')\n",
    "plt.hist(samplemean, normed='True', label='Histogram, n=10')\n",
    "plt.legend()\n",
    "plt.ylabel('f(x)')\n",
    "plt.xlabel('$x$')"
   ]
  },
  {
   "cell_type": "markdown",
   "metadata": {},
   "source": [
    "## **При $n=30:$**"
   ]
  },
  {
   "cell_type": "code",
   "execution_count": 12,
   "metadata": {},
   "outputs": [],
   "source": [
    "n = 30"
   ]
  },
  {
   "cell_type": "code",
   "execution_count": 13,
   "metadata": {},
   "outputs": [],
   "source": [
    "if len(samplemean) >0:\n",
    "    samplemean = np.array([])\n",
    "for i in range(1000):\n",
    "    samplemean = np.append(samplemean, (np.sum(chi2distribution.rvs(n))/n))"
   ]
  },
  {
   "cell_type": "code",
   "execution_count": 14,
   "metadata": {},
   "outputs": [
    {
     "name": "stderr",
     "output_type": "stream",
     "text": [
      "C:\\p\\anaconda3\\lib\\site-packages\\matplotlib\\axes\\_axes.py:6462: UserWarning: The 'normed' kwarg is deprecated, and has been replaced by the 'density' kwarg.\n",
      "  warnings.warn(\"The 'normed' kwarg is deprecated, and has been \"\n"
     ]
    },
    {
     "data": {
      "text/plain": [
       "Text(0.5,0,'$x$')"
      ]
     },
     "execution_count": 14,
     "metadata": {},
     "output_type": "execute_result"
    },
    {
     "data": {
      "image/png": "[encoded data removed]",
      "text/plain": [
       "<Figure size 432x288 with 1 Axes>"
      ]
     },
     "metadata": {},
     "output_type": "display_data"
    }
   ],
   "source": [
    "x = np.linspace(0,5,100)\n",
    "normDistribution = sts.norm(k, (np.sqrt(2.*k/n)))\n",
    "pdfN = normDistribution.pdf(x)\n",
    "plt.plot(x, pdfN, label='Theoretical PDF')\n",
    "plt.hist(samplemean, normed='True', label='Histogram, n=30')\n",
    "plt.legend()\n",
    "plt.ylabel('f(x)')\n",
    "plt.xlabel('$x$')"
   ]
  },
  {
   "cell_type": "markdown",
   "metadata": {},
   "source": [
    "## **Как мы видим при $n=30$ распределение выборочного среднего уже выглядит схожим с нормальным.  **"
   ]
  },
  {
   "cell_type": "markdown",
   "metadata": {},
   "source": [
    "## **При $n=50:$**"
   ]
  },
  {
   "cell_type": "code",
   "execution_count": 15,
   "metadata": {},
   "outputs": [],
   "source": [
    "n = 1000"
   ]
  },
  {
   "cell_type": "code",
   "execution_count": 16,
   "metadata": {},
   "outputs": [],
   "source": [
    "if len(samplemean) >0:\n",
    "    samplemean = np.array([])\n",
    "for i in range(1000):\n",
    "    samplemean = np.append(samplemean, (np.sum(chi2distribution.rvs(n))/n))"
   ]
  },
  {
   "cell_type": "code",
   "execution_count": 17,
   "metadata": {},
   "outputs": [
    {
     "name": "stderr",
     "output_type": "stream",
     "text": [
      "C:\\p\\anaconda3\\lib\\site-packages\\matplotlib\\axes\\_axes.py:6462: UserWarning: The 'normed' kwarg is deprecated, and has been replaced by the 'density' kwarg.\n",
      "  warnings.warn(\"The 'normed' kwarg is deprecated, and has been \"\n"
     ]
    },
    {
     "data": {
      "text/plain": [
       "Text(0.5,0,'$x$')"
      ]
     },
     "execution_count": 17,
     "metadata": {},
     "output_type": "execute_result"
    },
    {
     "data": {
      "image/png": "[encoded data removed]",
      "text/plain": [
       "<Figure size 432x288 with 1 Axes>"
      ]
     },
     "metadata": {},
     "output_type": "display_data"
    }
   ],
   "source": [
    "x = np.linspace(0,5,100)\n",
    "normDistribution = sts.norm(k, (np.sqrt(2.*k/n)))\n",
    "pdfN = normDistribution.pdf(x)\n",
    "plt.plot(x, pdfN, label='Theoretical PDF')\n",
    "plt.hist(samplemean, normed='True', label='Histogram, n=30')\n",
    "plt.legend()\n",
    "plt.ylabel('f(x)')\n",
    "plt.xlabel('$x$')"
   ]
  },
  {
   "cell_type": "markdown",
   "metadata": {},
   "source": [
    "## На примере распределения $\\chi^2$, используя центральную предельную теорему, можно прийти к выводу, что точность аппроксимации распределения выборочных средних нормальным с ростом n увеличивается. Из-за скошенности $\\chi^2$ распределения с параметром $k=1$, n - необходимое для \"хорошей\" апроксимации несколько выше, по сравнению с другими менее \"скошенными\" случаями распределения. "
   ]
  }
 ],
 "metadata": {
  "kernelspec": {
   "display_name": "Python 3",
   "language": "python",
   "name": "python3"
  },
  "language_info": {
   "codemirror_mode": {
    "name": "ipython",
    "version": 3
   },
   "file_extension": ".py",
   "mimetype": "text/x-python",
   "name": "python",
   "nbconvert_exporter": "python",
   "pygments_lexer": "ipython3",
   "version": "3.6.5"
  }
 },
 "nbformat": 4,
 "nbformat_minor": 2
}
