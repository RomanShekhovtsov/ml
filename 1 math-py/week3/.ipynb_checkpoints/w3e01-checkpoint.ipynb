{
 "cells": [
  {
   "cell_type": "code",
   "execution_count": 1,
   "metadata": {},
   "outputs": [],
   "source": [
    "# печать таблицы в HTML\n",
    "def print_table( data, headers=None ):\n",
    "    from IPython.display import HTML, display\n",
    "    \n",
    "    html = ''\n",
    "    if not headers is None:\n",
    "        html += '<tr><td><b>{}</b></td></tr>'.format('</b></td><td><b>'.join(str(_) for _ in headers))\n",
    "\n",
    "    display(HTML(\n",
    "        '<table><tr>{}</tr></table>'.format(\n",
    "            html + '</tr><tr>'.join(\n",
    "                '<td>{}</td>'.format('</td><td>'.join(str(_) for _ in row)) for row in data)\n",
    "            )\n",
    "     ))\n",
    "    #print(html)"
   ]
  },
  {
   "cell_type": "code",
   "execution_count": null,
   "metadata": {},
   "outputs": [],
   "source": [
    "import numpy as np\n",
    "import scipy\n",
    "#import math\n",
    "import matplotlib.pyplot as plt\n",
    "%matplotlib inline"
   ]
  },
  {
   "cell_type": "code",
   "execution_count": 20,
   "metadata": {},
   "outputs": [
    {
     "data": {
      "image/png": "[encoded data removed]",
      "text/plain": [
       "<Figure size 432x288 with 1 Axes>"
      ]
     },
     "metadata": {},
     "output_type": "display_data"
    }
   ],
   "source": [
    "# тест\n",
    "def f(x):\n",
    "    return np.sin(x / 5) * np.exp(x / 10) + 5 * np.exp(-x / 2)\n",
    "\n",
    "x = np.arange(1,31,0.1)\n",
    "y = f(x)\n",
    "plt.plot( x, y )\n",
    "plt.show()"
   ]
  },
  {
   "cell_type": "markdown",
   "metadata": {},
   "source": [
    "# Задача 1. Минимизация гладкой функции"
   ]
  },
  {
   "cell_type": "code",
   "execution_count": 46,
   "metadata": {},
   "outputs": [
    {
     "name": "stdout",
     "output_type": "stream",
     "text": [
      "      fun: 1.745268290332218\n",
      " hess_inv: array([[6.01541998]])\n",
      "      jac: array([-2.68220901e-07])\n",
      "  message: 'Optimization terminated successfully.'\n",
      "     nfev: 24\n",
      "      nit: 7\n",
      "     njev: 8\n",
      "   status: 0\n",
      "  success: True\n",
      "        x: array([4.13628697])\n",
      "\n",
      "      fun: -11.898894665974735\n",
      " hess_inv: array([[1.67456939]])\n",
      "      jac: array([2.86102295e-06])\n",
      "  message: 'Optimization terminated successfully.'\n",
      "     nfev: 15\n",
      "      nit: 4\n",
      "     njev: 5\n",
      "   status: 0\n",
      "  success: True\n",
      "        x: array([25.88019774])\n",
      "\n",
      "      fun: 1.7452682903447336\n",
      " hess_inv: array([[5.98752645]])\n",
      "      jac: array([-2.04145908e-06])\n",
      "  message: 'Optimization terminated successfully.'\n",
      "     nfev: 21\n",
      "      nit: 6\n",
      "     njev: 7\n",
      "   status: 0\n",
      "  success: True\n",
      "        x: array([4.13627628])\n",
      "\n",
      "      fun: -11.898894665981313\n",
      " hess_inv: array([[1.67936744]])\n",
      "      jac: array([0.])\n",
      "  message: 'Optimization terminated successfully.'\n",
      "     nfev: 21\n",
      "      nit: 6\n",
      "     njev: 7\n",
      "   status: 0\n",
      "  success: True\n",
      "        x: array([25.88019321])\n",
      "\n"
     ]
    },
    {
     "data": {
      "image/png": "[encoded data removed]",
      "text/plain": [
       "<Figure size 432x288 with 1 Axes>"
      ]
     },
     "metadata": {},
     "output_type": "display_data"
    }
   ],
   "source": [
    "# Попробуйте найти минимум, используя стандартные параметры в функции scipy.optimize.minimize \n",
    "# (т.е. задав только функцию и начальное приближение).\n",
    "from scipy import optimize\n",
    "print(optimize.minimize(f, 1 ))\n",
    "print()\n",
    "\n",
    "# Попробуйте менять начальное приближение и изучить, меняется ли результат.\n",
    "print(optimize.minimize(f, 27 ))\n",
    "print()\n",
    "\n",
    "# Укажите в scipy.optimize.minimize в качестве метода BFGS\n",
    "# (один из самых точных в большинстве случаев градиентных методов оптимизации),\n",
    "# запустите из начального приближения x=2. \n",
    "res1 = optimize.minimize(f, 2, method='BFGS' )\n",
    "print( res1 )\n",
    "print()\n",
    "# 1.7452682903447336\n",
    "\n",
    "# Теперь измените начальное приближение на x=30.\n",
    "res2 = optimize.minimize(f, 30, method='BFGS' ) \n",
    "print( res2 )\n",
    "print()\n",
    "# -11.898894665981313\n",
    "\n",
    "plt.plot(x,y)\n",
    "plt.plot([res1.x], [res1.fun], marker='o', markersize=3, color=\"red\")\n",
    "plt.plot([res2.x], [res2.fun], marker='o', markersize=3, color=\"red\")\n",
    "plt.show()"
   ]
  },
  {
   "cell_type": "markdown",
   "metadata": {},
   "source": [
    "# Задача 2. Глобальная оптимизация"
   ]
  },
  {
   "cell_type": "code",
   "execution_count": 60,
   "metadata": {},
   "outputs": [
    {
     "name": "stdout",
     "output_type": "stream",
     "text": [
      "     fun: array([-11.89889467])\n",
      "     jac: array([1.77635684e-07])\n",
      " message: 'Optimization terminated successfully.'\n",
      "    nfev: 81\n",
      "     nit: 4\n",
      " success: True\n",
      "       x: array([25.88019322])\n"
     ]
    },
    {
     "data": {
      "image/png": "[encoded data removed]",
      "text/plain": [
       "<Figure size 432x288 with 1 Axes>"
      ]
     },
     "metadata": {},
     "output_type": "display_data"
    }
   ],
   "source": [
    "# Запустите поиск минимума функции f(x) с помощью дифференциальной эволюции на промежутке [1, 30]\n",
    "res = optimize.differential_evolution( f, [(1,30)])\n",
    "print(res)\n",
    "#-11.90\n",
    "\n",
    "plt.plot(x,y)\n",
    "plt.plot([res.x], [res.fun], marker='o', markersize=3, color=\"red\")\n",
    "plt.show()"
   ]
  },
  {
   "cell_type": "code",
   "execution_count": 84,
   "metadata": {},
   "outputs": [
    {
     "name": "stdout",
     "output_type": "stream",
     "text": [
      "0.6597000000000001\n",
      "0.12\n",
      "0.09863200000000001\n",
      "0.2684354560000001\n"
     ]
    }
   ],
   "source": [
    "p1 = 0.49\n",
    "p2 = 0.38\n",
    "p3 = 0.1\n",
    "p4 = 0.03\n",
    "p = p1 + p2*(p2+p4) + p3*(p3+p4) + p4*p4\n",
    "print(p)\n",
    "print(0.6*0.1 + 0.4*0.15)\n",
    "print( 0.064 + 0.037 - 0.064*0.037)\n",
    "\n",
    "def factorial(n):\n",
    "    if n==1:\n",
    "        return 1\n",
    "    else:\n",
    "        return n*factorial(n-1)\n",
    "    \n",
    "def binomial(n,p,k):\n",
    "    cnk = factorial(n) / ( factorial(k) * factorial(n - k) )\n",
    "    return cnk * p ** k * (1 -p) ** (n - k)\n",
    "    \n",
    "print( binomial(10, 0.2, 1) )\n",
    "    "
   ]
  },
  {
   "cell_type": "markdown",
   "metadata": {},
   "source": [
    "# Задача 3. Минимизация негладкой функции"
   ]
  },
  {
   "cell_type": "code",
   "execution_count": 78,
   "metadata": {},
   "outputs": [
    {
     "name": "stdout",
     "output_type": "stream",
     "text": [
      "<class 'numpy.ndarray'>\n",
      "      fun: array([-5])\n",
      " hess_inv: array([[1]])\n",
      "      jac: array([0.])\n",
      "  message: 'Optimization terminated successfully.'\n",
      "     nfev: 3\n",
      "      nit: 0\n",
      "     njev: 1\n",
      "   status: 0\n",
      "  success: True\n",
      "        x: array([30.])\n",
      "\n",
      "     fun: -11.0\n",
      " message: 'Optimization terminated successfully.'\n",
      "    nfev: 122\n",
      "     nit: 7\n",
      " success: True\n",
      "       x: array([27.50909017])\n",
      "\n"
     ]
    },
    {
     "data": {
      "image/png": "[encoded data removed]",
      "text/plain": [
       "<Figure size 432x288 with 1 Axes>"
      ]
     },
     "metadata": {},
     "output_type": "display_data"
    }
   ],
   "source": [
    "# Теперь рассмотрим функцию h(x) = int(f(x)) на том же отрезке [1, 30]\n",
    "def h(x):\n",
    "    return np.array(list(map( np.int, f(x) )))\n",
    "\n",
    "print(type(h(x)))\n",
    "# Такая функция будет негладкой и даже разрывной, а ее график будет иметь ступенчатый вид.\n",
    "# Убедитесь в этом, построив график h(x) с помощью matplotlib.\n",
    "plt.plot( x, h(x) )\n",
    "\n",
    "# Попробуйте найти минимум функции h(x) с помощью BFGS, \n",
    "# взяв в качестве начального приближения x=30\n",
    "bfgs = optimize.minimize(h, 30, method='BFGS' ) \n",
    "print( bfgs )\n",
    "print()\n",
    "#-5\n",
    "\n",
    "plt.plot([bfgs.x], [bfgs.fun], marker='o', markersize=3, color=\"red\")\n",
    "\n",
    "#Теперь попробуйте найти минимум h(x) на отрезке [1, 30] с помощью дифференциальной эволюции. \n",
    "diff_ev = optimize.differential_evolution( h, [(1,30)])\n",
    "print( diff_ev )\n",
    "print()\n",
    "#-11\n",
    "\n",
    "plt.plot([diff_ev.x], [diff_ev.fun], marker='o', markersize=3, color=\"red\")\n",
    "\n",
    "plt.show()"
   ]
  }
 ],
 "metadata": {
  "kernelspec": {
   "display_name": "Python 3",
   "language": "python",
   "name": "python3"
  },
  "language_info": {
   "codemirror_mode": {
    "name": "ipython",
    "version": 3
   },
   "file_extension": ".py",
   "mimetype": "text/x-python",
   "name": "python",
   "nbconvert_exporter": "python",
   "pygments_lexer": "ipython3",
   "version": "3.6.5"
  }
 },
 "nbformat": 4,
 "nbformat_minor": 2
}
